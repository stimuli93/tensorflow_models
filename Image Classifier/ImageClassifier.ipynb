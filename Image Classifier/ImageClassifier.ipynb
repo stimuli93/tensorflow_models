{
 "cells": [
  {
   "cell_type": "markdown",
   "metadata": {},
   "source": [
    "## Image Classification using model built in Tensorflow "
   ]
  },
  {
   "cell_type": "markdown",
   "metadata": {},
   "source": [
    "#### Using MNIST data to test the functionality of the model"
   ]
  },
  {
   "cell_type": "code",
   "execution_count": 1,
   "metadata": {
    "collapsed": true
   },
   "outputs": [],
   "source": [
    "import numpy as np\n",
    "import pandas as pd\n",
    "import matplotlib.pyplot as plt\n",
    "%matplotlib inline"
   ]
  },
  {
   "cell_type": "code",
   "execution_count": 2,
   "metadata": {
    "collapsed": true
   },
   "outputs": [],
   "source": [
    "train = pd.read_csv('dataset/train.csv')"
   ]
  },
  {
   "cell_type": "code",
   "execution_count": 3,
   "metadata": {
    "collapsed": false
   },
   "outputs": [
    {
     "data": {
      "text/html": [
       "<div>\n",
       "<table border=\"1\" class=\"dataframe\">\n",
       "  <thead>\n",
       "    <tr style=\"text-align: right;\">\n",
       "      <th></th>\n",
       "      <th>label</th>\n",
       "      <th>pixel0</th>\n",
       "      <th>pixel1</th>\n",
       "      <th>pixel2</th>\n",
       "      <th>pixel3</th>\n",
       "      <th>pixel4</th>\n",
       "      <th>pixel5</th>\n",
       "      <th>pixel6</th>\n",
       "      <th>pixel7</th>\n",
       "      <th>pixel8</th>\n",
       "      <th>...</th>\n",
       "      <th>pixel774</th>\n",
       "      <th>pixel775</th>\n",
       "      <th>pixel776</th>\n",
       "      <th>pixel777</th>\n",
       "      <th>pixel778</th>\n",
       "      <th>pixel779</th>\n",
       "      <th>pixel780</th>\n",
       "      <th>pixel781</th>\n",
       "      <th>pixel782</th>\n",
       "      <th>pixel783</th>\n",
       "    </tr>\n",
       "  </thead>\n",
       "  <tbody>\n",
       "    <tr>\n",
       "      <th>0</th>\n",
       "      <td>1</td>\n",
       "      <td>0</td>\n",
       "      <td>0</td>\n",
       "      <td>0</td>\n",
       "      <td>0</td>\n",
       "      <td>0</td>\n",
       "      <td>0</td>\n",
       "      <td>0</td>\n",
       "      <td>0</td>\n",
       "      <td>0</td>\n",
       "      <td>...</td>\n",
       "      <td>0</td>\n",
       "      <td>0</td>\n",
       "      <td>0</td>\n",
       "      <td>0</td>\n",
       "      <td>0</td>\n",
       "      <td>0</td>\n",
       "      <td>0</td>\n",
       "      <td>0</td>\n",
       "      <td>0</td>\n",
       "      <td>0</td>\n",
       "    </tr>\n",
       "    <tr>\n",
       "      <th>1</th>\n",
       "      <td>0</td>\n",
       "      <td>0</td>\n",
       "      <td>0</td>\n",
       "      <td>0</td>\n",
       "      <td>0</td>\n",
       "      <td>0</td>\n",
       "      <td>0</td>\n",
       "      <td>0</td>\n",
       "      <td>0</td>\n",
       "      <td>0</td>\n",
       "      <td>...</td>\n",
       "      <td>0</td>\n",
       "      <td>0</td>\n",
       "      <td>0</td>\n",
       "      <td>0</td>\n",
       "      <td>0</td>\n",
       "      <td>0</td>\n",
       "      <td>0</td>\n",
       "      <td>0</td>\n",
       "      <td>0</td>\n",
       "      <td>0</td>\n",
       "    </tr>\n",
       "    <tr>\n",
       "      <th>2</th>\n",
       "      <td>1</td>\n",
       "      <td>0</td>\n",
       "      <td>0</td>\n",
       "      <td>0</td>\n",
       "      <td>0</td>\n",
       "      <td>0</td>\n",
       "      <td>0</td>\n",
       "      <td>0</td>\n",
       "      <td>0</td>\n",
       "      <td>0</td>\n",
       "      <td>...</td>\n",
       "      <td>0</td>\n",
       "      <td>0</td>\n",
       "      <td>0</td>\n",
       "      <td>0</td>\n",
       "      <td>0</td>\n",
       "      <td>0</td>\n",
       "      <td>0</td>\n",
       "      <td>0</td>\n",
       "      <td>0</td>\n",
       "      <td>0</td>\n",
       "    </tr>\n",
       "    <tr>\n",
       "      <th>3</th>\n",
       "      <td>4</td>\n",
       "      <td>0</td>\n",
       "      <td>0</td>\n",
       "      <td>0</td>\n",
       "      <td>0</td>\n",
       "      <td>0</td>\n",
       "      <td>0</td>\n",
       "      <td>0</td>\n",
       "      <td>0</td>\n",
       "      <td>0</td>\n",
       "      <td>...</td>\n",
       "      <td>0</td>\n",
       "      <td>0</td>\n",
       "      <td>0</td>\n",
       "      <td>0</td>\n",
       "      <td>0</td>\n",
       "      <td>0</td>\n",
       "      <td>0</td>\n",
       "      <td>0</td>\n",
       "      <td>0</td>\n",
       "      <td>0</td>\n",
       "    </tr>\n",
       "    <tr>\n",
       "      <th>4</th>\n",
       "      <td>0</td>\n",
       "      <td>0</td>\n",
       "      <td>0</td>\n",
       "      <td>0</td>\n",
       "      <td>0</td>\n",
       "      <td>0</td>\n",
       "      <td>0</td>\n",
       "      <td>0</td>\n",
       "      <td>0</td>\n",
       "      <td>0</td>\n",
       "      <td>...</td>\n",
       "      <td>0</td>\n",
       "      <td>0</td>\n",
       "      <td>0</td>\n",
       "      <td>0</td>\n",
       "      <td>0</td>\n",
       "      <td>0</td>\n",
       "      <td>0</td>\n",
       "      <td>0</td>\n",
       "      <td>0</td>\n",
       "      <td>0</td>\n",
       "    </tr>\n",
       "  </tbody>\n",
       "</table>\n",
       "<p>5 rows × 785 columns</p>\n",
       "</div>"
      ],
      "text/plain": [
       "   label  pixel0  pixel1  pixel2  pixel3  pixel4  pixel5  pixel6  pixel7  \\\n",
       "0      1       0       0       0       0       0       0       0       0   \n",
       "1      0       0       0       0       0       0       0       0       0   \n",
       "2      1       0       0       0       0       0       0       0       0   \n",
       "3      4       0       0       0       0       0       0       0       0   \n",
       "4      0       0       0       0       0       0       0       0       0   \n",
       "\n",
       "   pixel8    ...     pixel774  pixel775  pixel776  pixel777  pixel778  \\\n",
       "0       0    ...            0         0         0         0         0   \n",
       "1       0    ...            0         0         0         0         0   \n",
       "2       0    ...            0         0         0         0         0   \n",
       "3       0    ...            0         0         0         0         0   \n",
       "4       0    ...            0         0         0         0         0   \n",
       "\n",
       "   pixel779  pixel780  pixel781  pixel782  pixel783  \n",
       "0         0         0         0         0         0  \n",
       "1         0         0         0         0         0  \n",
       "2         0         0         0         0         0  \n",
       "3         0         0         0         0         0  \n",
       "4         0         0         0         0         0  \n",
       "\n",
       "[5 rows x 785 columns]"
      ]
     },
     "execution_count": 3,
     "metadata": {},
     "output_type": "execute_result"
    }
   ],
   "source": [
    "train.head()"
   ]
  },
  {
   "cell_type": "code",
   "execution_count": 4,
   "metadata": {
    "collapsed": true
   },
   "outputs": [],
   "source": [
    "trX = train.drop('label',axis=1).values\n",
    "trX = trX.reshape([-1,28,28])\n",
    "trY = train['label'].values"
   ]
  },
  {
   "cell_type": "code",
   "execution_count": 5,
   "metadata": {
    "collapsed": false
   },
   "outputs": [
    {
     "data": {
      "text/plain": [
       "(42000, 28, 28)"
      ]
     },
     "execution_count": 5,
     "metadata": {},
     "output_type": "execute_result"
    }
   ],
   "source": [
    "trX.shape"
   ]
  },
  {
   "cell_type": "code",
   "execution_count": 6,
   "metadata": {
    "collapsed": false
   },
   "outputs": [
    {
     "data": {
      "text/plain": [
       "(42000, 10)"
      ]
     },
     "execution_count": 6,
     "metadata": {},
     "output_type": "execute_result"
    }
   ],
   "source": [
    "trY = pd.get_dummies(trY).values\n",
    "trY.shape"
   ]
  },
  {
   "cell_type": "markdown",
   "metadata": {},
   "source": [
    "#### The input images are of size (28x28) but the model expects input image size to be multiple of 8 so padding zeros at the border to make image size (32x32)"
   ]
  },
  {
   "cell_type": "code",
   "execution_count": 7,
   "metadata": {
    "collapsed": false
   },
   "outputs": [],
   "source": [
    "n_samples = trX.shape[0]\n",
    "resized_image = []\n",
    "for i in xrange(n_samples):\n",
    "    img = trX[i]\n",
    "    img = np.lib.pad(img, (2,2), 'constant', constant_values=(0))\n",
    "    resized_image.append(img)"
   ]
  },
  {
   "cell_type": "code",
   "execution_count": 8,
   "metadata": {
    "collapsed": false
   },
   "outputs": [],
   "source": [
    "trX = np.array(resized_image).reshape([-1,32,32,1])"
   ]
  },
  {
   "cell_type": "code",
   "execution_count": 9,
   "metadata": {
    "collapsed": false
   },
   "outputs": [
    {
     "data": {
      "text/plain": [
       "<matplotlib.image.AxesImage at 0x12eedb610>"
      ]
     },
     "execution_count": 9,
     "metadata": {},
     "output_type": "execute_result"
    },
    {
     "data": {
      "image/png": "[encoded data removed]",
      "text/plain": [
       "<matplotlib.figure.Figure at 0x1051c43d0>"
      ]
     },
     "metadata": {},
     "output_type": "display_data"
    }
   ],
   "source": [
    "plt.imshow(trX[0].reshape(32,32),cmap='gray')"
   ]
  },
  {
   "cell_type": "code",
   "execution_count": 10,
   "metadata": {
    "collapsed": false
   },
   "outputs": [],
   "source": [
    "trX = trX/255.0"
   ]
  },
  {
   "cell_type": "code",
   "execution_count": 11,
   "metadata": {
    "collapsed": false
   },
   "outputs": [],
   "source": [
    "from sklearn.cross_validation import train_test_split\n",
    "Xtrain,Xval,ytrain,yval = train_test_split(trX,trY,test_size=0.2)"
   ]
  },
  {
   "cell_type": "code",
   "execution_count": 12,
   "metadata": {
    "collapsed": false
   },
   "outputs": [],
   "source": [
    "from ImageClassifier import ConvolutionalClassifier\n",
    "clf = ConvolutionalClassifier(n_classes=10,img_dims=trX[0].shape, ckpt_dir=\"./ckpt_dir\", summary_dir=\"/tmp/convClf_logs\")"
   ]
  },
  {
   "cell_type": "code",
   "execution_count": 14,
   "metadata": {
    "collapsed": false
   },
   "outputs": [
    {
     "name": "stdout",
     "output_type": "stream",
     "text": [
      "./ckpt_dir/model.ckpt-20000\n",
      "Loss at step 20000: 0.509624\n",
      "Loss at step 20010: 4.2246e-05\n",
      "Loss at step 20020: 0.000754675\n",
      "Loss at step 20030: 0.0260002\n",
      "Loss at step 20040: 0.0170622\n",
      "Loss at step 20050: 0.00208636\n",
      "Loss at step 20060: 0.000142271\n",
      "Loss at step 20070: 0.000115793\n",
      "Loss at step 20080: 0.00250976\n",
      "Loss at step 20090: 0.00662622\n",
      "Loss at step 20100: 0.00360882\n",
      "Loss at step 20110: 0.000148196\n",
      "Loss at step 20120: 0.00690302\n",
      "Loss at step 20130: 0.000279277\n",
      "Loss at step 20140: 0.000843965\n",
      "Loss at step 20150: 0.0294459\n",
      "Loss at step 20160: 0.0052411\n",
      "Loss at step 20170: 6.1989e-07\n",
      "Loss at step 20180: 0.00964107\n",
      "Loss at step 20190: 0.00235819\n",
      "Loss at step 20200: 0.0283594\n",
      "Loss at step 20210: 0.000704043\n",
      "Loss at step 20220: 0.000153851\n",
      "Loss at step 20230: 9.69392e-05\n",
      "Loss at step 20240: 0.000454962\n",
      "Loss at step 20250: 2.1039e-05\n",
      "Loss at step 20260: 0.000540375\n",
      "Loss at step 20270: 0.0327705\n",
      "Loss at step 20280: 0.000794853\n",
      "Loss at step 20290: 0.000482682\n",
      "Loss at step 20300: 3.94708e-05\n",
      "Loss at step 20310: 0.0016938\n",
      "Loss at step 20320: 0.00120476\n",
      "Loss at step 20330: 0.0183161\n",
      "Loss at step 20340: 0.00148292\n",
      "Loss at step 20350: 0.00288029\n",
      "Loss at step 20360: 0.00116225\n",
      "Loss at step 20370: 0.0109856\n",
      "Loss at step 20380: 0.0324228\n",
      "Loss at step 20390: 0.00329479\n",
      "Loss at step 20400: 0.0856349\n",
      "Loss at step 20410: 0.0488625\n",
      "Loss at step 20420: 0.0654273\n",
      "Loss at step 20430: 0.0102222\n",
      "Loss at step 20440: 0.0200463\n",
      "Loss at step 20450: 0.023838\n",
      "Loss at step 20460: 0.288504\n",
      "Loss at step 20470: 0.11127\n",
      "Loss at step 20480: 0.0566925\n",
      "Loss at step 20490: 0.00760648\n",
      "Loss at step 20500: 0.0114713\n",
      "Loss at step 20510: 0.00124108\n",
      "Loss at step 20520: 0.00327746\n",
      "Loss at step 20530: 0.208064\n",
      "Loss at step 20540: 0.000938424\n",
      "Loss at step 20550: 0.128004\n",
      "Loss at step 20560: 0.0211233\n",
      "Loss at step 20570: 0.0208555\n",
      "Loss at step 20580: 0.1362\n",
      "Loss at step 20590: 7.51349e-05\n",
      "Loss at step 20600: 0.0837673\n",
      "Loss at step 20610: 0.000415351\n",
      "Loss at step 20620: 6.57545e-05\n",
      "Loss at step 20630: 0.00365197\n",
      "Loss at step 20640: 0.001737\n",
      "Loss at step 20650: 0.0615332\n",
      "Loss at step 20660: 0.00304585\n",
      "Loss at step 20670: 0.0058992\n",
      "Loss at step 20680: 0.00936833\n",
      "Loss at step 20690: 0.0486997\n",
      "Loss at step 20700: 0.008935\n",
      "Loss at step 20710: 0.00194233\n",
      "Loss at step 20720: 0.047142\n",
      "Loss at step 20730: 5.23614e-05\n",
      "Loss at step 20740: 0.000169568\n",
      "Loss at step 20750: 0.030999\n",
      "Loss at step 20760: 0.00179114\n",
      "Loss at step 20770: 0.00552026\n",
      "Loss at step 20780: 0.0528955\n",
      "Loss at step 20790: 0.00162108\n",
      "Loss at step 20800: 0.00187428\n",
      "Loss at step 20810: 0.0462324\n",
      "Loss at step 20820: 6.66421e-05\n",
      "Loss at step 20830: 0.00303201\n",
      "Loss at step 20840: 0.00375891\n",
      "Loss at step 20850: 0.276101\n",
      "Loss at step 20860: 3.51203e-05\n",
      "Loss at step 20870: 0.0867744\n",
      "Loss at step 20880: 0.000857983\n",
      "Loss at step 20890: 0.00465668\n",
      "Loss at step 20900: 0.000394762\n",
      "Loss at step 20910: 0.000226774\n",
      "Loss at step 20920: 0.000336864\n",
      "Loss at step 20930: 0.00542654\n",
      "Loss at step 20940: 0.000757212\n",
      "Loss at step 20950: 0.198922\n",
      "Loss at step 20960: 0.00125851\n",
      "Loss at step 20970: 0.000177308\n",
      "Loss at step 20980: 0.00530404\n",
      "Loss at step 20990: 0.0351636\n"
     ]
    }
   ],
   "source": [
    "clf.train(Xtrain,ytrain,n_iters=1000,batch_size=20,learning_rate=7e-4,keep_prob=0.5)"
   ]
  },
  {
   "cell_type": "code",
   "execution_count": 15,
   "metadata": {
    "collapsed": false
   },
   "outputs": [
    {
     "data": {
      "text/plain": [
       "[0.99029762, 0.032433558]"
      ]
     },
     "execution_count": 15,
     "metadata": {},
     "output_type": "execute_result"
    }
   ],
   "source": [
    "# Accuracy and loss for training data\n",
    "clf.score(Xtrain,ytrain)"
   ]
  },
  {
   "cell_type": "code",
   "execution_count": 16,
   "metadata": {
    "collapsed": false
   },
   "outputs": [
    {
     "data": {
      "text/plain": [
       "[0.98440474, 0.058637373]"
      ]
     },
     "execution_count": 16,
     "metadata": {},
     "output_type": "execute_result"
    }
   ],
   "source": [
    "# Accuracy and loss for validation data\n",
    "clf.score(Xval,yval)"
   ]
  },
  {
   "cell_type": "markdown",
   "metadata": {
    "collapsed": true
   },
   "source": [
    "### Loss function and accuracy plots visualized using tensorboard with logdir=convClf_logs/"
   ]
  }
 ],
 "metadata": {
  "kernelspec": {
   "display_name": "Python 2",
   "language": "python",
   "name": "python2"
  },
  "language_info": {
   "codemirror_mode": {
    "name": "ipython",
    "version": 2
   },
   "file_extension": ".py",
   "mimetype": "text/x-python",
   "name": "python",
   "nbconvert_exporter": "python",
   "pygments_lexer": "ipython2",
   "version": "2.7.11"
  }
 },
 "nbformat": 4,
 "nbformat_minor": 0
}
